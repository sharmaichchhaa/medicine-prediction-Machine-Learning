{
 "cells": [
  {
   "cell_type": "code",
   "execution_count": 3,
   "id": "c9de27c9",
   "metadata": {},
   "outputs": [
    {
     "name": "stdout",
     "output_type": "stream",
     "text": [
      "env: PYDEVD_DISABLE_FILE_VALIDATION=1\n",
      "env: IPYTHON_XMODE=plain\n"
     ]
    }
   ],
   "source": [
    "import os\n",
    "import math\n",
    "import joblib\n",
    "import pandas\n",
    "import scipy.io\n",
    "import numpy as np\n",
    "import pandas as pd\n",
    "import ipywidgets as widgets\n",
    "from sklearn.utils import shuffle\n",
    "from IPython.display import display\n",
    "from sklearn.metrics import roc_auc_score\n",
    "from sklearn.preprocessing import StandardScaler\n",
    "from sklearn.preprocessing import OrdinalEncoder\n",
    "from sklearn.ensemble import RandomForestClassifier\n",
    "from sklearn.datasets import make_classification\n",
    "from sklearn.multioutput import MultiOutputClassifier\n",
    "from sklearn.ensemble import RandomForestClassifier\n",
    "from sklearn.model_selection import train_test_split\n",
    "from sklearn.neighbors import KNeighborsRegressor\n",
    "from sklearn.multioutput import MultiOutputRegressor\n",
    "from sklearn.metrics import roc_auc_score\n",
    "%env PYDEVD_DISABLE_FILE_VALIDATION=1\n",
    "%env IPYTHON_XMODE=plain"
   ]
  },
  {
   "cell_type": "code",
   "execution_count": 4,
   "id": "8835ed01",
   "metadata": {},
   "outputs": [
    {
     "data": {
      "text/html": [
       "<div>\n",
       "<style scoped>\n",
       "    .dataframe tbody tr th:only-of-type {\n",
       "        vertical-align: middle;\n",
       "    }\n",
       "\n",
       "    .dataframe tbody tr th {\n",
       "        vertical-align: top;\n",
       "    }\n",
       "\n",
       "    .dataframe thead th {\n",
       "        text-align: right;\n",
       "    }\n",
       "</style>\n",
       "<table border=\"1\" class=\"dataframe\">\n",
       "  <thead>\n",
       "    <tr style=\"text-align: right;\">\n",
       "      <th></th>\n",
       "      <th>index</th>\n",
       "      <th>Duration</th>\n",
       "      <th>Location1</th>\n",
       "      <th>Location2</th>\n",
       "      <th>Score</th>\n",
       "      <th>Doctor</th>\n",
       "      <th>PatientTypes</th>\n",
       "      <th>Knowledge</th>\n",
       "      <th>Type2diabetes</th>\n",
       "      <th>Arthritis</th>\n",
       "      <th>Depression</th>\n",
       "      <th>Cost</th>\n",
       "      <th>Weight</th>\n",
       "      <th>Interaction</th>\n",
       "      <th>Medicine1</th>\n",
       "      <th>Medicine2</th>\n",
       "      <th>Medicine3</th>\n",
       "    </tr>\n",
       "  </thead>\n",
       "  <tbody>\n",
       "    <tr>\n",
       "      <th>0</th>\n",
       "      <td>1</td>\n",
       "      <td>177</td>\n",
       "      <td>40.7009</td>\n",
       "      <td>-73.9461</td>\n",
       "      <td>0.9</td>\n",
       "      <td>Family medicine</td>\n",
       "      <td>Heart disease &amp; Type-2 Diabetes</td>\n",
       "      <td>Knowledgeable</td>\n",
       "      <td>1</td>\n",
       "      <td>0</td>\n",
       "      <td>0</td>\n",
       "      <td>1</td>\n",
       "      <td>1</td>\n",
       "      <td>0</td>\n",
       "      <td>Metformin</td>\n",
       "      <td>None</td>\n",
       "      <td>None</td>\n",
       "    </tr>\n",
       "    <tr>\n",
       "      <th>1</th>\n",
       "      <td>2</td>\n",
       "      <td>190</td>\n",
       "      <td>40.7434</td>\n",
       "      <td>-73.0761</td>\n",
       "      <td>0.7</td>\n",
       "      <td>Family medicine</td>\n",
       "      <td>Heart disease</td>\n",
       "      <td>Knowledgeable</td>\n",
       "      <td>1</td>\n",
       "      <td>0</td>\n",
       "      <td>0</td>\n",
       "      <td>1</td>\n",
       "      <td>1</td>\n",
       "      <td>0</td>\n",
       "      <td>Victoza</td>\n",
       "      <td>None</td>\n",
       "      <td>None</td>\n",
       "    </tr>\n",
       "    <tr>\n",
       "      <th>2</th>\n",
       "      <td>3</td>\n",
       "      <td>271</td>\n",
       "      <td>40.7009</td>\n",
       "      <td>-73.9461</td>\n",
       "      <td>1.0</td>\n",
       "      <td>Family medicine</td>\n",
       "      <td>Depression</td>\n",
       "      <td>Very knowledgeable</td>\n",
       "      <td>1</td>\n",
       "      <td>0</td>\n",
       "      <td>0</td>\n",
       "      <td>1</td>\n",
       "      <td>1</td>\n",
       "      <td>0</td>\n",
       "      <td>Metformin</td>\n",
       "      <td>None</td>\n",
       "      <td>None</td>\n",
       "    </tr>\n",
       "    <tr>\n",
       "      <th>3</th>\n",
       "      <td>4</td>\n",
       "      <td>268</td>\n",
       "      <td>40.7009</td>\n",
       "      <td>-73.9461</td>\n",
       "      <td>1.0</td>\n",
       "      <td>Family medicine</td>\n",
       "      <td>Cancer</td>\n",
       "      <td>Not very knowledgeable</td>\n",
       "      <td>1</td>\n",
       "      <td>0</td>\n",
       "      <td>0</td>\n",
       "      <td>1</td>\n",
       "      <td>1</td>\n",
       "      <td>0</td>\n",
       "      <td>Victoza</td>\n",
       "      <td>None</td>\n",
       "      <td>None</td>\n",
       "    </tr>\n",
       "    <tr>\n",
       "      <th>4</th>\n",
       "      <td>5</td>\n",
       "      <td>303</td>\n",
       "      <td>40.7009</td>\n",
       "      <td>-73.9461</td>\n",
       "      <td>0.9</td>\n",
       "      <td>Family medicine</td>\n",
       "      <td>Heart disease &amp; Type-2 Diabetes</td>\n",
       "      <td>Knowledgeable</td>\n",
       "      <td>1</td>\n",
       "      <td>0</td>\n",
       "      <td>0</td>\n",
       "      <td>1</td>\n",
       "      <td>1</td>\n",
       "      <td>0</td>\n",
       "      <td>Victoza</td>\n",
       "      <td>None</td>\n",
       "      <td>None</td>\n",
       "    </tr>\n",
       "    <tr>\n",
       "      <th>...</th>\n",
       "      <td>...</td>\n",
       "      <td>...</td>\n",
       "      <td>...</td>\n",
       "      <td>...</td>\n",
       "      <td>...</td>\n",
       "      <td>...</td>\n",
       "      <td>...</td>\n",
       "      <td>...</td>\n",
       "      <td>...</td>\n",
       "      <td>...</td>\n",
       "      <td>...</td>\n",
       "      <td>...</td>\n",
       "      <td>...</td>\n",
       "      <td>...</td>\n",
       "      <td>...</td>\n",
       "      <td>...</td>\n",
       "      <td>...</td>\n",
       "    </tr>\n",
       "    <tr>\n",
       "      <th>3926</th>\n",
       "      <td>3927</td>\n",
       "      <td>722</td>\n",
       "      <td>32.8209</td>\n",
       "      <td>-97.1765</td>\n",
       "      <td>1.0</td>\n",
       "      <td>Family medicine</td>\n",
       "      <td>Heart disease &amp; Type-2 Diabetes</td>\n",
       "      <td>Very knowledgeable</td>\n",
       "      <td>1</td>\n",
       "      <td>1</td>\n",
       "      <td>1</td>\n",
       "      <td>1</td>\n",
       "      <td>1</td>\n",
       "      <td>1</td>\n",
       "      <td>Victoza</td>\n",
       "      <td>Hydroxychloroquine</td>\n",
       "      <td>Escitalopram</td>\n",
       "    </tr>\n",
       "    <tr>\n",
       "      <th>3927</th>\n",
       "      <td>3928</td>\n",
       "      <td>795</td>\n",
       "      <td>32.8209</td>\n",
       "      <td>-97.1765</td>\n",
       "      <td>1.0</td>\n",
       "      <td>Family medicine</td>\n",
       "      <td>Heart disease &amp; Type-2 Diabetes</td>\n",
       "      <td>Very knowledgeable</td>\n",
       "      <td>1</td>\n",
       "      <td>1</td>\n",
       "      <td>1</td>\n",
       "      <td>1</td>\n",
       "      <td>1</td>\n",
       "      <td>1</td>\n",
       "      <td>Metformin</td>\n",
       "      <td>Hydroxychloroquine</td>\n",
       "      <td>Escitalopram</td>\n",
       "    </tr>\n",
       "    <tr>\n",
       "      <th>3928</th>\n",
       "      <td>3929</td>\n",
       "      <td>1040</td>\n",
       "      <td>46.1478</td>\n",
       "      <td>-122.9711</td>\n",
       "      <td>1.0</td>\n",
       "      <td>Family medicine</td>\n",
       "      <td>Type-2 Diabetes &amp; Depression</td>\n",
       "      <td>Knowledgeable</td>\n",
       "      <td>1</td>\n",
       "      <td>1</td>\n",
       "      <td>1</td>\n",
       "      <td>1</td>\n",
       "      <td>1</td>\n",
       "      <td>1</td>\n",
       "      <td>Empagliflozin</td>\n",
       "      <td>Ibuprofen</td>\n",
       "      <td>Selegiline</td>\n",
       "    </tr>\n",
       "    <tr>\n",
       "      <th>3929</th>\n",
       "      <td>3930</td>\n",
       "      <td>928</td>\n",
       "      <td>32.8209</td>\n",
       "      <td>-97.1765</td>\n",
       "      <td>1.0</td>\n",
       "      <td>General internal medicine</td>\n",
       "      <td>Type-2 Diabetes &amp; Depression</td>\n",
       "      <td>Knowledgeable</td>\n",
       "      <td>1</td>\n",
       "      <td>1</td>\n",
       "      <td>1</td>\n",
       "      <td>1</td>\n",
       "      <td>1</td>\n",
       "      <td>1</td>\n",
       "      <td>Empagliflozin</td>\n",
       "      <td>Hydroxychloroquine</td>\n",
       "      <td>Escitalopram</td>\n",
       "    </tr>\n",
       "    <tr>\n",
       "      <th>3930</th>\n",
       "      <td>3931</td>\n",
       "      <td>599</td>\n",
       "      <td>39.1027</td>\n",
       "      <td>-94.5778</td>\n",
       "      <td>0.6</td>\n",
       "      <td>Family medicine</td>\n",
       "      <td>Type-2 Diabetes &amp; Depression</td>\n",
       "      <td>Knowledgeable</td>\n",
       "      <td>1</td>\n",
       "      <td>1</td>\n",
       "      <td>1</td>\n",
       "      <td>1</td>\n",
       "      <td>1</td>\n",
       "      <td>1</td>\n",
       "      <td>Metformin</td>\n",
       "      <td>Ibuprofen</td>\n",
       "      <td>Escitalopram</td>\n",
       "    </tr>\n",
       "  </tbody>\n",
       "</table>\n",
       "<p>3931 rows × 17 columns</p>\n",
       "</div>"
      ],
      "text/plain": [
       "      index  Duration  Location1  Location2  Score                     Doctor  \\\n",
       "0         1       177    40.7009   -73.9461    0.9            Family medicine   \n",
       "1         2       190    40.7434   -73.0761    0.7            Family medicine   \n",
       "2         3       271    40.7009   -73.9461    1.0            Family medicine   \n",
       "3         4       268    40.7009   -73.9461    1.0            Family medicine   \n",
       "4         5       303    40.7009   -73.9461    0.9            Family medicine   \n",
       "...     ...       ...        ...        ...    ...                        ...   \n",
       "3926   3927       722    32.8209   -97.1765    1.0            Family medicine   \n",
       "3927   3928       795    32.8209   -97.1765    1.0            Family medicine   \n",
       "3928   3929      1040    46.1478  -122.9711    1.0            Family medicine   \n",
       "3929   3930       928    32.8209   -97.1765    1.0  General internal medicine   \n",
       "3930   3931       599    39.1027   -94.5778    0.6            Family medicine   \n",
       "\n",
       "                         PatientTypes               Knowledge  Type2diabetes  \\\n",
       "0     Heart disease & Type-2 Diabetes           Knowledgeable              1   \n",
       "1                       Heart disease           Knowledgeable              1   \n",
       "2                          Depression      Very knowledgeable              1   \n",
       "3                              Cancer  Not very knowledgeable              1   \n",
       "4     Heart disease & Type-2 Diabetes           Knowledgeable              1   \n",
       "...                               ...                     ...            ...   \n",
       "3926  Heart disease & Type-2 Diabetes      Very knowledgeable              1   \n",
       "3927  Heart disease & Type-2 Diabetes      Very knowledgeable              1   \n",
       "3928     Type-2 Diabetes & Depression           Knowledgeable              1   \n",
       "3929     Type-2 Diabetes & Depression           Knowledgeable              1   \n",
       "3930     Type-2 Diabetes & Depression           Knowledgeable              1   \n",
       "\n",
       "      Arthritis  Depression  Cost  Weight  Interaction      Medicine1  \\\n",
       "0             0           0     1       1            0      Metformin   \n",
       "1             0           0     1       1            0        Victoza   \n",
       "2             0           0     1       1            0      Metformin   \n",
       "3             0           0     1       1            0        Victoza   \n",
       "4             0           0     1       1            0        Victoza   \n",
       "...         ...         ...   ...     ...          ...            ...   \n",
       "3926          1           1     1       1            1        Victoza   \n",
       "3927          1           1     1       1            1      Metformin   \n",
       "3928          1           1     1       1            1  Empagliflozin   \n",
       "3929          1           1     1       1            1  Empagliflozin   \n",
       "3930          1           1     1       1            1      Metformin   \n",
       "\n",
       "               Medicine2     Medicine3  \n",
       "0                   None          None  \n",
       "1                   None          None  \n",
       "2                   None          None  \n",
       "3                   None          None  \n",
       "4                   None          None  \n",
       "...                  ...           ...  \n",
       "3926  Hydroxychloroquine  Escitalopram  \n",
       "3927  Hydroxychloroquine  Escitalopram  \n",
       "3928           Ibuprofen    Selegiline  \n",
       "3929  Hydroxychloroquine  Escitalopram  \n",
       "3930           Ibuprofen  Escitalopram  \n",
       "\n",
       "[3931 rows x 17 columns]"
      ]
     },
     "execution_count": 4,
     "metadata": {},
     "output_type": "execute_result"
    }
   ],
   "source": [
    "cwd = os.getcwd()\n",
    "file = os.path.join(cwd,\"Data\\\\Multiclass_Multioutput_dataset.csv\")\n",
    "data = pd.read_csv(file)\n",
    "data"
   ]
  },
  {
   "cell_type": "code",
   "execution_count": 2,
   "id": "5de586b3",
   "metadata": {},
   "outputs": [
    {
     "name": "stdout",
     "output_type": "stream",
     "text": [
      "Accuracy: 93.0934205743366 %\n"
     ]
    },
    {
     "data": {
      "text/plain": [
       "['Data\\\\Models\\\\trained_model.joblib']"
      ]
     },
     "execution_count": 2,
     "metadata": {},
     "output_type": "execute_result"
    }
   ],
   "source": [
    "cwd = os.getcwd()\n",
    "file = os.path.join(cwd,\"Data\\\\Multiclass_Multioutput_dataset.csv\")\n",
    "data = pd.read_csv(file)\n",
    "data.Medicine1.replace(to_replace=['None'], value=np.nan, inplace=True)\n",
    "data.Medicine2.replace(to_replace=['None'], value=np.nan, inplace=True)\n",
    "data.Medicine3.replace(to_replace=['None'], value=np.nan, inplace=True)\n",
    "\n",
    "df = data.fillna('')\n",
    "ord_enc = OrdinalEncoder()\n",
    "\n",
    "#data[\"Medicine\"] = data['Medicine1'].astype(str)+\"-\"+data['Medicine2'].astype(str)+\"-\"+data['Medicine3'].astype(str)\n",
    "\n",
    "X=df.drop(['index','Medicine1','Medicine2','Medicine3'], axis=1)\n",
    "X=ord_enc.fit_transform(X)\n",
    "y = df[['Medicine1','Medicine2','Medicine3']]\n",
    "y=ord_enc.fit_transform(y)\n",
    "\n",
    "training, testing, training_labels, testing_labels = train_test_split(X, y, test_size = .30, random_state = 108)\n",
    "\n",
    "forest = RandomForestClassifier(n_estimators=100, max_depth=12,random_state=2)\n",
    "multi_target_forest = MultiOutputClassifier(forest, n_jobs=2)\n",
    "multi_target_forest.fit(training, training_labels)\n",
    "\n",
    "accuracy = multi_target_forest.score(training, training_labels)*100\n",
    "print(\"Accuracy:\", accuracy,\"%\")\n",
    "\n",
    "# Save the trained model to a file\n",
    "joblib.dump(multi_target_forest, 'Data\\\\Models\\\\trained_model.joblib')\n",
    "\n",
    "# customTesting = [[ 6., 31., 38.,  0.,  3., 21.,  0.,  1.,  1.,  0.,  0.,  1.,  1.]]\n",
    "# prediction = multi_target_forest.predict(customTesting)\n",
    "\n",
    "#medicine=[\"Medicine1:\",\"Medicine2:\",\"Medicine3:\"]\n",
    "# meds = []\n",
    "# for i in range(len(prediction)):\n",
    "#     #print(prediction[i])\n",
    "#     for j in range(len(prediction[i])):  \n",
    "#         #print(medicine[j],ord_enc.categories_[j][round(prediction[i][j])])\n",
    "#         meds.append(ord_enc.categories_[j][round(prediction[i][j])])\n",
    "    \n",
    "# for item in meds:\n",
    "#     if item != '':\n",
    "#         print(item)"
   ]
  },
  {
   "cell_type": "code",
   "execution_count": 1,
   "id": "b4f4f731",
   "metadata": {},
   "outputs": [
    {
     "ename": "NameError",
     "evalue": "name 'data' is not defined",
     "output_type": "error",
     "traceback": [
      "\u001b[1;31m---------------------------------------------------------------------------\u001b[0m",
      "\u001b[1;31mNameError\u001b[0m                                 Traceback (most recent call last)",
      "Cell \u001b[1;32mIn[1], line 1\u001b[0m\n\u001b[1;32m----> 1\u001b[0m \u001b[43mdata\u001b[49m\n",
      "\u001b[1;31mNameError\u001b[0m: name 'data' is not defined"
     ]
    }
   ],
   "source": []
  },
  {
   "cell_type": "code",
   "execution_count": 3,
   "id": "f94bbdf4",
   "metadata": {},
   "outputs": [
    {
     "name": "stdout",
     "output_type": "stream",
     "text": [
      "Length of testing dataset: 1180\n"
     ]
    }
   ],
   "source": [
    "testing_length = len(testing)\n",
    "print(\"Length of testing dataset:\", testing_length)"
   ]
  },
  {
   "cell_type": "code",
   "execution_count": 4,
   "id": "877330cb",
   "metadata": {},
   "outputs": [
    {
     "name": "stdout",
     "output_type": "stream",
     "text": [
      "Accuracy: 75.94077175432264 %\n"
     ]
    },
    {
     "data": {
      "text/plain": [
       "['Data\\\\Models\\\\trained_knn.joblib']"
      ]
     },
     "execution_count": 4,
     "metadata": {},
     "output_type": "execute_result"
    }
   ],
   "source": [
    "from sklearn.neighbors import KNeighborsRegressor\n",
    "from sklearn.multioutput import MultiOutputRegressor\n",
    "from sklearn.metrics import roc_auc_score\n",
    "\n",
    "knn = KNeighborsRegressor(algorithm='kd_tree', leaf_size=20, metric='minkowski',\n",
    "                          metric_params=None, n_jobs=15, n_neighbors=2, p=3,\n",
    "                          weights='uniform')\n",
    "\n",
    "regr = MultiOutputRegressor(knn)\n",
    "regr.fit(training, training_labels)\n",
    "\n",
    "preds = regr.predict(testing)\n",
    "\n",
    "accuracy = regr.score(training, training_labels)*100\n",
    "print(\"Accuracy:\", accuracy,\"%\")\n",
    "\n",
    "# Save the trained model to a file\n",
    "joblib.dump(regr, 'Data\\\\Models\\\\trained_knn.joblib')"
   ]
  },
  {
   "cell_type": "code",
   "execution_count": 5,
   "id": "8b761210",
   "metadata": {
    "scrolled": true
   },
   "outputs": [],
   "source": [
    "# print(X,y)"
   ]
  },
  {
   "cell_type": "code",
   "execution_count": 6,
   "id": "e0eabe7e",
   "metadata": {},
   "outputs": [
    {
     "name": "stdout",
     "output_type": "stream",
     "text": [
      "[[1. 3. 0.]]\n"
     ]
    }
   ],
   "source": [
    "# Later, when you want to make predictions using the saved model\n",
    "# Load the saved model from the file\n",
    "loaded_model = joblib.load('trained_model.joblib')\n",
    "\n",
    "customTesting = [[ 6., 31., 38.,  0.,  3., 21.,  0.,  1.,  1.,  0.,  0.,  1.,  1.]]\n",
    "prediction = loaded_model.predict(customTesting)\n",
    "print(prediction)"
   ]
  },
  {
   "cell_type": "code",
   "execution_count": 7,
   "id": "14eded4e",
   "metadata": {},
   "outputs": [
    {
     "data": {
      "text/html": [
       "\n",
       "        <style>\n",
       "        .custom-toggle-buttons .widget-toggle-button {\n",
       "            width: 100%;\n",
       "            max-width: 100%;\n",
       "        }\n",
       "        .custom-toggle-buttons .widget-toggle-button:not(.mod-active) {\n",
       "            background-color: transparent;\n",
       "            border-color: transparent;\n",
       "            color: inherit;\n",
       "            border-color: #ccc;\n",
       "            border-width: 1px;\n",
       "            border-style: solid;\n",
       "        }\n",
       "        .custom-toggle-buttons .widget-toggle-button.mod-active {\n",
       "            background-color: #28a745;  /* Success button color */\n",
       "            border-color: #28a745;\n",
       "            color: #fff;\n",
       "        }\n",
       "        </style>\n",
       "        "
      ],
      "text/plain": [
       "<IPython.core.display.HTML object>"
      ]
     },
     "metadata": {},
     "output_type": "display_data"
    },
    {
     "data": {
      "application/vnd.jupyter.widget-view+json": {
       "model_id": "e763b06994ae4386a7e2bbe6e2f391bd",
       "version_major": 2,
       "version_minor": 0
      },
      "text/plain": [
       "ToggleButtons(_dom_classes=('custom-toggle-buttons',), button_style='info', layout=Layout(width='auto'), optio…"
      ]
     },
     "metadata": {},
     "output_type": "display_data"
    },
    {
     "name": "stdout",
     "output_type": "stream",
     "text": [
      "Select all the diseases that apply: \n"
     ]
    },
    {
     "data": {
      "application/vnd.jupyter.widget-view+json": {
       "model_id": "b8718f72430541ccad9060754d086204",
       "version_major": 2,
       "version_minor": 0
      },
      "text/plain": [
       "Checkbox(value=False, description='Type 2 Diabetes')"
      ]
     },
     "metadata": {},
     "output_type": "display_data"
    },
    {
     "data": {
      "application/vnd.jupyter.widget-view+json": {
       "model_id": "32b926e78ec64006b20154164485af9f",
       "version_major": 2,
       "version_minor": 0
      },
      "text/plain": [
       "Checkbox(value=False, description='Arthritis')"
      ]
     },
     "metadata": {},
     "output_type": "display_data"
    },
    {
     "data": {
      "application/vnd.jupyter.widget-view+json": {
       "model_id": "e8d10d197087477ea52499d396bd556b",
       "version_major": 2,
       "version_minor": 0
      },
      "text/plain": [
       "Checkbox(value=False, description='Depression')"
      ]
     },
     "metadata": {},
     "output_type": "display_data"
    },
    {
     "name": "stdout",
     "output_type": "stream",
     "text": [
      "Select all the factors that influence your medication plan: \n"
     ]
    },
    {
     "data": {
      "application/vnd.jupyter.widget-view+json": {
       "model_id": "d87c3778b15e4f97bb75664f1cf6d5f3",
       "version_major": 2,
       "version_minor": 0
      },
      "text/plain": [
       "Checkbox(value=False, description='Weight')"
      ]
     },
     "metadata": {},
     "output_type": "display_data"
    },
    {
     "data": {
      "application/vnd.jupyter.widget-view+json": {
       "model_id": "c3233ece628a4bfeae26bb96eb021fbe",
       "version_major": 2,
       "version_minor": 0
      },
      "text/plain": [
       "Checkbox(value=False, description='Cost')"
      ]
     },
     "metadata": {},
     "output_type": "display_data"
    },
    {
     "data": {
      "application/vnd.jupyter.widget-view+json": {
       "model_id": "3252a83ea0dd4ca0b13aaad2ff3277a4",
       "version_major": 2,
       "version_minor": 0
      },
      "text/plain": [
       "Checkbox(value=False, description='Interaction')"
      ]
     },
     "metadata": {},
     "output_type": "display_data"
    },
    {
     "data": {
      "application/vnd.jupyter.widget-view+json": {
       "model_id": "c6da48ed743448f3b8733c369006bdfd",
       "version_major": 2,
       "version_minor": 0
      },
      "text/plain": [
       "Button(description='Submit', style=ButtonStyle())"
      ]
     },
     "metadata": {},
     "output_type": "display_data"
    },
    {
     "data": {
      "application/vnd.jupyter.widget-view+json": {
       "model_id": "f397c4bec89f4b11addbac106500529c",
       "version_major": 2,
       "version_minor": 0
      },
      "text/plain": [
       "Output()"
      ]
     },
     "metadata": {},
     "output_type": "display_data"
    }
   ],
   "source": [
    "from ipywidgets import widgets, Layout\n",
    "from IPython.display import display, HTML\n",
    "from ipywidgets import widgets, interact\n",
    "from IPython.display import display, HTML\n",
    "\n",
    "loaded_model = joblib.load('trained_model.joblib')\n",
    "loaded_knn = joblib.load('trained_knn.joblib')\n",
    "\n",
    "# Create checkbox widgets\n",
    "disease1 = widgets.Checkbox(value=False, description='Type 2 Diabetes')\n",
    "disease2 = widgets.Checkbox(value=False, description='Arthritis')\n",
    "disease3 = widgets.Checkbox(value=False, description='Depression')\n",
    "factor1 = widgets.Checkbox(value=False, description='Weight')\n",
    "factor2 = widgets.Checkbox(value=False, description='Cost')\n",
    "factor3 = widgets.Checkbox(value=False, description='Interaction')\n",
    "\n",
    "style = \"\"\"\n",
    "        <style>\n",
    "        .custom-toggle-buttons .widget-toggle-button {\n",
    "            width: 100%;\n",
    "            max-width: 100%;\n",
    "        }\n",
    "        .custom-toggle-buttons .widget-toggle-button:not(.mod-active) {\n",
    "            background-color: transparent;\n",
    "            border-color: transparent;\n",
    "            color: inherit;\n",
    "            border-color: #ccc;\n",
    "            border-width: 1px;\n",
    "            border-style: solid;\n",
    "        }\n",
    "        .custom-toggle-buttons .widget-toggle-button.mod-active {\n",
    "            background-color: #28a745;  /* Success button color */\n",
    "            border-color: #28a745;\n",
    "            color: #fff;\n",
    "        }\n",
    "        </style>\n",
    "        \"\"\"\n",
    "toggle_button = widgets.ToggleButtons(\n",
    "    options=['Random forest', 'K-Nearest Neighbor'],\n",
    "    button_style='info',  # Apply a button style to change the color\n",
    "    layout=Layout(width='auto'),  # Set the width to auto\n",
    "    style={'button_width': '30%'}  # Set the button width to initial\n",
    ")\n",
    "\n",
    "toggle_button.add_class('custom-toggle-buttons')\n",
    "display(HTML(style))\n",
    "display(toggle_button)\n",
    "\n",
    "# Creating a button widget\n",
    "button = widgets.Button(description='Submit')\n",
    "\n",
    "# Create an output widget\n",
    "output = widgets.Output()\n",
    "\n",
    "# Display the checkboxes\n",
    "print(\"Select all the diseases that apply: \")\n",
    "display(disease1, disease2, disease3)\n",
    "\n",
    "# Display the checkboxes\n",
    "print(\"Select all the factors that influence your medication plan: \")\n",
    "display(factor1, factor2, factor3)\n",
    "display(button)\n",
    "\n",
    "def handle_submit_button(button_click):\n",
    "    with output:\n",
    "        output.clear_output()\n",
    "        meds = []\n",
    "        flag = 0;\n",
    "        \n",
    "        selected_value = toggle_button.value\n",
    "        if selected_value == 'Random forest':\n",
    "            flag = 0;\n",
    "        else:\n",
    "            flag = 1;\n",
    "        \n",
    "#         selected_diseases = [disease.description for disease in [disease1, disease2, disease3] if disease.value]\n",
    "#         selected_factors = [factor.description for factor in [factor1, factor2, factor3] if factor.value]\n",
    "        diabetes = 1. if disease1.value else 0.\n",
    "        arthritis = 1. if disease2.value else 0.\n",
    "        depression = 1. if disease3.value else 0.\n",
    "        weight = 1. if factor1.value else 0.\n",
    "        cost = 1. if factor2.value else 0.\n",
    "        interaction = 1. if factor3.value else 0.\n",
    "\n",
    "        customTesting = [[ 6., 31., 38.,  0.,  3., 21.,  0.,  diabetes,  arthritis,  depression,  weight,  cost,  interaction]]\n",
    "        if flag == 0:\n",
    "            prediction = loaded_model.predict(customTesting)\n",
    "        else:\n",
    "            prediction = loaded_knn.predict(customTesting)\n",
    "        \n",
    "        meds_buttons = []\n",
    "        print(\"The best medication suggestion is: \")\n",
    "        for i in range(len(prediction)):\n",
    "            for j in range(len(prediction[i])):  \n",
    "                meds.append(ord_enc.categories_[j][round(prediction[i][j])])\n",
    "    \n",
    "        for item in meds:\n",
    "             if item != '':\n",
    "                meds_buttons.append(widgets.Button(description=item, button_style='success'))\n",
    "        display(*meds_buttons)\n",
    "\n",
    "button.on_click(handle_submit_button)\n",
    "display(output)\n"
   ]
  },
  {
   "cell_type": "code",
   "execution_count": null,
   "id": "7a2795bd",
   "metadata": {},
   "outputs": [],
   "source": [
    "import tensorflow as tf\n",
    "from tensorflow.keras.models import Sequential\n",
    "from tensorflow.keras.layers import Dense\n",
    "from tensorflow.keras.callbacks import TensorBoard, ModelCheckpoint\n",
    "from sklearn.decomposition import PCA\n",
    "from sklearn.preprocessing import StandardScaler\n",
    "\n",
    "X = df.drop(['index','Medicine1','Medicine2','Medicine3'], axis=1)\n",
    "X = ord_enc.fit_transform(X)\n",
    "y = df[['Medicine1','Medicine2','Medicine3']]\n",
    "y = ord_enc.fit_transform(y)\n",
    "\n",
    "# Standardize the numerical features\n",
    "scaler = StandardScaler()\n",
    "X_scaled = scaler.fit_transform(X)\n",
    "\n",
    "# Perform PCA to reduce the dimensionality\n",
    "pca = PCA(n_components=3)\n",
    "X_pca = pca.fit_transform(X_scaled)\n",
    "\n",
    "# Create a TensorFlow model for the visualization\n",
    "model = Sequential()\n",
    "model.add(Dense(3, input_shape=(3,), activation='linear'))  # 3 components from PCA\n",
    "model.compile(optimizer='adam', loss='mse')\n",
    "\n",
    "# Create a TensorBoard callback\n",
    "logdir = \"./logs\"\n",
    "tensorboard_callback = TensorBoard(log_dir=logdir)\n",
    "\n",
    "# Create a ModelCheckpoint callback to save checkpoints\n",
    "checkpoint_callback = ModelCheckpoint('./checkpoints/model-{epoch:02d}.ckpt', save_weights_only=True)\n",
    "\n",
    "# Fit the model to the PCA-transformed data\n",
    "model.fit(X_pca, X_pca, epochs=100, callbacks=[tensorboard_callback, checkpoint_callback])"
   ]
  },
  {
   "cell_type": "code",
   "execution_count": null,
   "id": "5bdf7d43",
   "metadata": {
    "scrolled": true
   },
   "outputs": [],
   "source": [
    "# Launch TensorBoard\n",
    "#%load_ext tensorboard\n",
    "%tensorboard --logdir=./logs\n",
    "%reload_ext tensorboard"
   ]
  },
  {
   "cell_type": "code",
   "execution_count": null,
   "id": "ba9cc1ac",
   "metadata": {},
   "outputs": [],
   "source": [
    "import matplotlib.pyplot as plt\n",
    "import numpy as np\n",
    "import joblib\n",
    "\n",
    "loaded_model = joblib.load('trained_model.joblib')\n",
    "loaded_knn = joblib.load('trained_knn.joblib')\n",
    "\n",
    "# Select a sample of indices for plotting\n",
    "sample_indices = [0, 1, 2, 3, 4]\n",
    "\n",
    "# Get the predictions from Model 1 and Model 2 for the selected indices\n",
    "model1_predictions = loaded_model.predict(testing)[sample_indices]\n",
    "model2_predictions = loaded_knn.predict(testing)[sample_indices]\n",
    "\n",
    "# Generate x-axis values for plotting\n",
    "x_values = np.arange(len(sample_indices))\n",
    "\n",
    "# Plot the predictions from Model 1\n",
    "model1_lines = plt.plot(x_values, model1_predictions, label=\"Model 1\")\n",
    "\n",
    "# Plot the predictions from Model 2\n",
    "model2_lines = plt.plot(x_values, model2_predictions, label=\"Model 2\")\n",
    "\n",
    "# Add labels and title\n",
    "plt.xlabel('Sample Index')\n",
    "plt.ylabel('Predicted Value')\n",
    "plt.title('Comparison of Model Predictions')\n",
    "\n",
    "# Add a legend with only the lines from Model 1 and Model 2\n",
    "lines = model1_lines + model2_lines\n",
    "labels = [line.get_label() for line in lines]\n",
    "plt.legend(lines, labels)\n",
    "\n",
    "# Display the graph\n",
    "plt.show()"
   ]
  },
  {
   "cell_type": "code",
   "execution_count": null,
   "id": "1c79487f",
   "metadata": {},
   "outputs": [],
   "source": [
    "import matplotlib.pyplot as plt\n",
    "import numpy as np\n",
    "import joblib\n",
    "from mpl_toolkits.mplot3d import Axes3D\n",
    "\n",
    "loaded_model = joblib.load('trained_model.joblib')\n",
    "loaded_knn = joblib.load('trained_knn.joblib')\n",
    "\n",
    "# Get the predictions from Model 1 and Model 2 for the entire testing dataset\n",
    "model1_predictions = loaded_model.predict(testing)\n",
    "model2_predictions = loaded_knn.predict(testing)\n",
    "\n",
    "# Extract the desired number of predictions for plotting\n",
    "num_predictions = 1180\n",
    "model1_predictions = model1_predictions[:num_predictions]\n",
    "model2_predictions = model2_predictions[:num_predictions]\n",
    "\n",
    "# Create figure and 3D axes\n",
    "fig = plt.figure()\n",
    "ax = fig.add_subplot(111, projection='3d')\n",
    "\n",
    "# Extract the individual multioutput values for each model\n",
    "model1_pred_val1 = model1_predictions[:, 0]\n",
    "model1_pred_val2 = model1_predictions[:, 1]\n",
    "model1_pred_val3 = model1_predictions[:, 2]\n",
    "\n",
    "model2_pred_val1 = model2_predictions[:, 0]\n",
    "model2_pred_val2 = model2_predictions[:, 1]\n",
    "model2_pred_val3 = model2_predictions[:, 2]\n",
    "\n",
    "# Plot the predictions from Model 1\n",
    "ax.scatter(model1_pred_val1, model1_pred_val2, model1_pred_val3, label=\"Random Forest\")\n",
    "\n",
    "# Plot the predictions from Model 2\n",
    "ax.scatter(model2_pred_val1, model2_pred_val2, model2_pred_val3, label=\"K-nearest Neighbors\")\n",
    "\n",
    "# Set labels for each axis\n",
    "ax.set_xlabel('Medicine for diabetes')\n",
    "ax.set_ylabel('Medicine for arthritis')\n",
    "ax.set_zlabel('Medicine for depression')\n",
    "\n",
    "# Add a legend\n",
    "ax.legend()\n",
    "\n",
    "# Display the 3D plot\n",
    "plt.show()\n"
   ]
  },
  {
   "cell_type": "code",
   "execution_count": null,
   "id": "857b035c",
   "metadata": {},
   "outputs": [],
   "source": [
    "import matplotlib.pyplot as plt\n",
    "import numpy as np\n",
    "\n",
    "# Assuming you have loaded the predictions from the two models as `model1_predictions` and `model2_predictions`\n",
    "\n",
    "# Generate x-axis values\n",
    "x_values = np.arange(len(model1_predictions))\n",
    "\n",
    "# Plot the predictions from Model 1\n",
    "plt.plot(x_values, model1_predictions, label='Model 1')\n",
    "\n",
    "# Plot the predictions from Model 2\n",
    "plt.plot(x_values, model2_predictions, label='Model 2')\n",
    "\n",
    "# Add labels and title\n",
    "plt.xlabel('Sample Index')\n",
    "plt.ylabel('Prediction')\n",
    "plt.title('Comparison of Model Predictions')\n",
    "\n",
    "# Add a legend\n",
    "plt.legend()\n",
    "\n",
    "# Show the plot\n",
    "plt.show()\n"
   ]
  }
 ],
 "metadata": {
  "kernelspec": {
   "display_name": "Python 3 (ipykernel)",
   "language": "python",
   "name": "python3"
  },
  "language_info": {
   "codemirror_mode": {
    "name": "ipython",
    "version": 3
   },
   "file_extension": ".py",
   "mimetype": "text/x-python",
   "name": "python",
   "nbconvert_exporter": "python",
   "pygments_lexer": "ipython3",
   "version": "3.11.2"
  }
 },
 "nbformat": 4,
 "nbformat_minor": 5
}
